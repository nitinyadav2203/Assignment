{
  "nbformat": 4,
  "nbformat_minor": 0,
  "metadata": {
    "colab": {
      "name": "Untitled4.ipynb",
      "provenance": [],
      "collapsed_sections": [],
      "mount_file_id": "1MvJjhML9okOg70vKJ79yQZocCgRTyI9O",
      "authorship_tag": "ABX9TyPSuz71oTRgxigPuvhs4Iwv",
      "include_colab_link": true
    },
    "kernelspec": {
      "name": "python3",
      "display_name": "Python 3"
    },
    "language_info": {
      "name": "python"
    }
  },
  "cells": [
    {
      "cell_type": "markdown",
      "metadata": {
        "id": "view-in-github",
        "colab_type": "text"
      },
      "source": [
        "<a href=\"https://colab.research.google.com/github/nitinyadav2203/Assignment/blob/main/Map_Assignment.ipynb\" target=\"_parent\"><img src=\"https://colab.research.google.com/assets/colab-badge.svg\" alt=\"Open In Colab\"/></a>"
      ]
    },
    {
      "cell_type": "markdown",
      "metadata": {
        "id": "7UqDr1tHivBL"
      },
      "source": [
        "* Name: NITIN YADAV\n",
        "* Enrollment: 12019002001030"
      ]
    },
    {
      "cell_type": "code",
      "metadata": {
        "id": "nd3H0Kr3MB0c"
      },
      "source": [
        "import pandas as pd\n",
        "import numpy as np\n",
        "import seaborn as sns"
      ],
      "execution_count": 1,
      "outputs": []
    },
    {
      "cell_type": "code",
      "metadata": {
        "id": "1DEfu4ctOP-Z"
      },
      "source": [
        "sp=pd.read_csv(\"/content/drive/MyDrive/directory.csv - directory.csv.csv\")"
      ],
      "execution_count": 2,
      "outputs": []
    },
    {
      "cell_type": "code",
      "metadata": {
        "colab": {
          "base_uri": "https://localhost:8080/",
          "height": 310
        },
        "id": "7JaZgwDxMd2G",
        "outputId": "155ae763-dc68-41f5-d8e1-f1414c9ce8f7"
      },
      "source": [
        "sp.head()"
      ],
      "execution_count": 3,
      "outputs": [
        {
          "output_type": "execute_result",
          "data": {
            "text/html": [
              "<div>\n",
              "<style scoped>\n",
              "    .dataframe tbody tr th:only-of-type {\n",
              "        vertical-align: middle;\n",
              "    }\n",
              "\n",
              "    .dataframe tbody tr th {\n",
              "        vertical-align: top;\n",
              "    }\n",
              "\n",
              "    .dataframe thead th {\n",
              "        text-align: right;\n",
              "    }\n",
              "</style>\n",
              "<table border=\"1\" class=\"dataframe\">\n",
              "  <thead>\n",
              "    <tr style=\"text-align: right;\">\n",
              "      <th></th>\n",
              "      <th>Brand</th>\n",
              "      <th>Store Number</th>\n",
              "      <th>Store Name</th>\n",
              "      <th>Ownership Type</th>\n",
              "      <th>Street Address</th>\n",
              "      <th>City</th>\n",
              "      <th>State/Province</th>\n",
              "      <th>Country</th>\n",
              "      <th>Postcode</th>\n",
              "      <th>Phone Number</th>\n",
              "      <th>Timezone</th>\n",
              "      <th>Longitude</th>\n",
              "      <th>Latitude</th>\n",
              "    </tr>\n",
              "  </thead>\n",
              "  <tbody>\n",
              "    <tr>\n",
              "      <th>0</th>\n",
              "      <td>Starbucks</td>\n",
              "      <td>47370-257954</td>\n",
              "      <td>Meritxell, 96</td>\n",
              "      <td>Licensed</td>\n",
              "      <td>Av. Meritxell, 96</td>\n",
              "      <td>Andorra la Vella</td>\n",
              "      <td>7</td>\n",
              "      <td>AD</td>\n",
              "      <td>AD500</td>\n",
              "      <td>376818720</td>\n",
              "      <td>GMT+1:00 Europe/Andorra</td>\n",
              "      <td>1.53</td>\n",
              "      <td>42.51</td>\n",
              "    </tr>\n",
              "    <tr>\n",
              "      <th>1</th>\n",
              "      <td>Starbucks</td>\n",
              "      <td>22331-212325</td>\n",
              "      <td>Ajman Drive Thru</td>\n",
              "      <td>Licensed</td>\n",
              "      <td>1 Street 69, Al Jarf</td>\n",
              "      <td>Ajman</td>\n",
              "      <td>AJ</td>\n",
              "      <td>AE</td>\n",
              "      <td>NaN</td>\n",
              "      <td>NaN</td>\n",
              "      <td>GMT+04:00 Asia/Dubai</td>\n",
              "      <td>55.47</td>\n",
              "      <td>25.42</td>\n",
              "    </tr>\n",
              "    <tr>\n",
              "      <th>2</th>\n",
              "      <td>Starbucks</td>\n",
              "      <td>47089-256771</td>\n",
              "      <td>Dana Mall</td>\n",
              "      <td>Licensed</td>\n",
              "      <td>Sheikh Khalifa Bin Zayed St.</td>\n",
              "      <td>Ajman</td>\n",
              "      <td>AJ</td>\n",
              "      <td>AE</td>\n",
              "      <td>NaN</td>\n",
              "      <td>NaN</td>\n",
              "      <td>GMT+04:00 Asia/Dubai</td>\n",
              "      <td>55.47</td>\n",
              "      <td>25.39</td>\n",
              "    </tr>\n",
              "    <tr>\n",
              "      <th>3</th>\n",
              "      <td>Starbucks</td>\n",
              "      <td>22126-218024</td>\n",
              "      <td>Twofour 54</td>\n",
              "      <td>Licensed</td>\n",
              "      <td>Al Salam Street</td>\n",
              "      <td>Abu Dhabi</td>\n",
              "      <td>AZ</td>\n",
              "      <td>AE</td>\n",
              "      <td>NaN</td>\n",
              "      <td>NaN</td>\n",
              "      <td>GMT+04:00 Asia/Dubai</td>\n",
              "      <td>54.38</td>\n",
              "      <td>24.48</td>\n",
              "    </tr>\n",
              "    <tr>\n",
              "      <th>4</th>\n",
              "      <td>Starbucks</td>\n",
              "      <td>17127-178586</td>\n",
              "      <td>Al Ain Tower</td>\n",
              "      <td>Licensed</td>\n",
              "      <td>Khaldiya Area, Abu Dhabi Island</td>\n",
              "      <td>Abu Dhabi</td>\n",
              "      <td>AZ</td>\n",
              "      <td>AE</td>\n",
              "      <td>NaN</td>\n",
              "      <td>NaN</td>\n",
              "      <td>GMT+04:00 Asia/Dubai</td>\n",
              "      <td>54.54</td>\n",
              "      <td>24.51</td>\n",
              "    </tr>\n",
              "  </tbody>\n",
              "</table>\n",
              "</div>"
            ],
            "text/plain": [
              "       Brand  Store Number  ... Longitude Latitude\n",
              "0  Starbucks  47370-257954  ...      1.53    42.51\n",
              "1  Starbucks  22331-212325  ...     55.47    25.42\n",
              "2  Starbucks  47089-256771  ...     55.47    25.39\n",
              "3  Starbucks  22126-218024  ...     54.38    24.48\n",
              "4  Starbucks  17127-178586  ...     54.54    24.51\n",
              "\n",
              "[5 rows x 13 columns]"
            ]
          },
          "metadata": {},
          "execution_count": 3
        }
      ]
    },
    {
      "cell_type": "markdown",
      "metadata": {
        "id": "dJIyhMrMNFX1"
      },
      "source": [
        "**Q1. How many brands are available in the data?**"
      ]
    },
    {
      "cell_type": "code",
      "metadata": {
        "colab": {
          "base_uri": "https://localhost:8080/"
        },
        "id": "7I3bZPyhMgxU",
        "outputId": "5da66122-0b22-4d11-bd58-68be29c84a9c"
      },
      "source": [
        "sp['Brand'].value_counts()"
      ],
      "execution_count": 4,
      "outputs": [
        {
          "output_type": "execute_result",
          "data": {
            "text/plain": [
              "Starbucks                25249\n",
              "Teavana                    348\n",
              "Evolution Fresh              2\n",
              "Coffee House Holdings        1\n",
              "Name: Brand, dtype: int64"
            ]
          },
          "metadata": {},
          "execution_count": 4
        }
      ]
    },
    {
      "cell_type": "markdown",
      "metadata": {
        "id": "DcJLu5C1NQqj"
      },
      "source": [
        "* There are 4 Brands available in Data."
      ]
    },
    {
      "cell_type": "markdown",
      "metadata": {
        "id": "-wkI74j3NHAs"
      },
      "source": [
        "**Q2. Which country does the &#39;Coffee House Holdings&#39; brand use?**"
      ]
    },
    {
      "cell_type": "code",
      "metadata": {
        "colab": {
          "base_uri": "https://localhost:8080/"
        },
        "id": "hkZBoEgRNVfw",
        "outputId": "23339e92-18d0-407c-db42-c6fb742115c3"
      },
      "source": [
        "a=sp.loc[(sp['Brand']=='Coffee House Holdings')]['Country']\n",
        "a"
      ],
      "execution_count": 5,
      "outputs": [
        {
          "output_type": "execute_result",
          "data": {
            "text/plain": [
              "25122    US\n",
              "Name: Country, dtype: object"
            ]
          },
          "metadata": {},
          "execution_count": 5
        }
      ]
    },
    {
      "cell_type": "markdown",
      "metadata": {
        "id": "HWxkFjAeNLKj"
      },
      "source": [
        "**Q3. Which country does the Tevana brand use?**\n"
      ]
    },
    {
      "cell_type": "code",
      "metadata": {
        "colab": {
          "base_uri": "https://localhost:8080/"
        },
        "id": "_jFlrLTcMl1T",
        "outputId": "1ffcce9f-47dd-431c-a5c8-d8f72e1a1e15"
      },
      "source": [
        "b=sp.loc[(sp['Brand']=='Teavana')]['Country'].unique()\n",
        "b"
      ],
      "execution_count": 6,
      "outputs": [
        {
          "output_type": "execute_result",
          "data": {
            "text/plain": [
              "array(['CA', 'PR', 'US'], dtype=object)"
            ]
          },
          "metadata": {},
          "execution_count": 6
        }
      ]
    },
    {
      "cell_type": "markdown",
      "metadata": {
        "id": "bM98MGMyQJMY"
      },
      "source": [
        "**Q4. Which country does &#39;Starbucks&#39; brand use?**\n"
      ]
    },
    {
      "cell_type": "code",
      "metadata": {
        "colab": {
          "base_uri": "https://localhost:8080/"
        },
        "id": "O7f__cK0O2aq",
        "outputId": "3b013ab6-ef0c-4901-de3d-d6ebb7aa3dca"
      },
      "source": [
        "c=sp.loc[(sp['Brand']=='Starbucks')]['Country'].unique()\n",
        "c"
      ],
      "execution_count": 7,
      "outputs": [
        {
          "output_type": "execute_result",
          "data": {
            "text/plain": [
              "array(['AD', 'AE', 'AR', 'AT', 'AU', 'AW', 'AZ', 'BE', 'BG', 'BH', 'BN',\n",
              "       'BO', 'BR', 'BS', 'CA', 'CH', 'CL', 'CN', 'CO', 'CR', 'CW', 'CY',\n",
              "       'CZ', 'DE', 'DK', 'EG', 'ES', 'FI', 'FR', 'GB', 'GR', 'GT', 'HU',\n",
              "       'ID', 'IE', 'IN', 'JO', 'JP', 'KH', 'KR', 'KW', 'KZ', 'LB', 'LU',\n",
              "       'MA', 'MC', 'MX', 'MY', 'NL', 'NO', 'NZ', 'OM', 'PA', 'PE', 'PH',\n",
              "       'PL', 'PR', 'PT', 'QA', 'RO', 'RU', 'SA', 'SE', 'SG', 'SK', 'SV',\n",
              "       'TH', 'TR', 'TT', 'TW', 'US', 'VN', 'ZA'], dtype=object)"
            ]
          },
          "metadata": {},
          "execution_count": 7
        }
      ]
    },
    {
      "cell_type": "markdown",
      "metadata": {
        "id": "qcnAjbzxQW5Y"
      },
      "source": [
        "**Q5. How many ownerships are available in the data?**"
      ]
    },
    {
      "cell_type": "code",
      "metadata": {
        "colab": {
          "base_uri": "https://localhost:8080/"
        },
        "id": "RGyySTdRQH9u",
        "outputId": "3935d888-cafb-4c32-cb8a-816e8a1cd79a"
      },
      "source": [
        "sp['Ownership Type'].value_counts()"
      ],
      "execution_count": 8,
      "outputs": [
        {
          "output_type": "execute_result",
          "data": {
            "text/plain": [
              "Company Owned    11932\n",
              "Licensed          9375\n",
              "Joint Venture     3976\n",
              "Franchise          317\n",
              "Name: Ownership Type, dtype: int64"
            ]
          },
          "metadata": {},
          "execution_count": 8
        }
      ]
    },
    {
      "cell_type": "markdown",
      "metadata": {
        "id": "LOtPEq-cNsSy"
      },
      "source": [
        "* These are 4 Ownerships."
      ]
    },
    {
      "cell_type": "markdown",
      "metadata": {
        "id": "s3QWQGztQjBu"
      },
      "source": [
        "**Q6. Which country has Franchise ownership?**"
      ]
    },
    {
      "cell_type": "code",
      "metadata": {
        "id": "0kovIxm4Qu1E",
        "colab": {
          "base_uri": "https://localhost:8080/"
        },
        "outputId": "c90e184f-3fd2-4eb0-d3fd-0f9b69bc58c7"
      },
      "source": [
        "d=sp.loc[(sp['Ownership Type']=='Franchise')]['Country'].unique()\n",
        "d"
      ],
      "execution_count": 9,
      "outputs": [
        {
          "output_type": "execute_result",
          "data": {
            "text/plain": [
              "array(['FR', 'GB'], dtype=object)"
            ]
          },
          "metadata": {},
          "execution_count": 9
        }
      ]
    },
    {
      "cell_type": "markdown",
      "metadata": {
        "id": "ZFTYnyNRQt1M"
      },
      "source": [
        "**Q7. Which country has Joint Venture ownership?**"
      ]
    },
    {
      "cell_type": "code",
      "metadata": {
        "id": "Sh_6XS3xQhmr",
        "colab": {
          "base_uri": "https://localhost:8080/"
        },
        "outputId": "c13c2f3d-7fcd-4177-a912-7d5b8655ba21"
      },
      "source": [
        "e=sp.loc[(sp['Ownership Type']=='Joint Venture')]['Country'].unique()\n",
        "e"
      ],
      "execution_count": 10,
      "outputs": [
        {
          "output_type": "execute_result",
          "data": {
            "text/plain": [
              "array(['AR', 'CN', 'CZ', 'HU', 'IN', 'JP', 'KR', 'MY', 'PL', 'RU', 'TW'],\n",
              "      dtype=object)"
            ]
          },
          "metadata": {},
          "execution_count": 10
        }
      ]
    },
    {
      "cell_type": "markdown",
      "metadata": {
        "id": "UU2zQio2Rxuo"
      },
      "source": [
        "**Q8. Which country has Licensed ownership?**"
      ]
    },
    {
      "cell_type": "code",
      "metadata": {
        "colab": {
          "base_uri": "https://localhost:8080/"
        },
        "id": "I497YDJCR4He",
        "outputId": "e9064d1b-7fef-4791-aa40-6b5675a2afd0"
      },
      "source": [
        "f=sp.loc[(sp['Ownership Type']=='Licensed')]['Country'].unique()\n",
        "f"
      ],
      "execution_count": 11,
      "outputs": [
        {
          "output_type": "execute_result",
          "data": {
            "text/plain": [
              "array(['AD', 'AE', 'AR', 'AT', 'AU', 'AW', 'AZ', 'BE', 'BG', 'BH', 'BN',\n",
              "       'BO', 'BS', 'CA', 'CH', 'CL', 'CN', 'CO', 'CR', 'CW', 'CY', 'DE',\n",
              "       'DK', 'EG', 'ES', 'FI', 'FR', 'GB', 'GR', 'GT', 'ID', 'IE', 'JO',\n",
              "       'JP', 'KH', 'KW', 'KZ', 'LB', 'LU', 'MA', 'MC', 'MX', 'MY', 'NL',\n",
              "       'NO', 'NZ', 'OM', 'PA', 'PE', 'PH', 'PR', 'PT', 'QA', 'RO', 'RU',\n",
              "       'SA', 'SE', 'SK', 'SV', 'TR', 'TT', 'US', 'VN', 'ZA'], dtype=object)"
            ]
          },
          "metadata": {},
          "execution_count": 11
        }
      ]
    },
    {
      "cell_type": "markdown",
      "metadata": {
        "id": "JU3vv8FXO9em"
      },
      "source": [
        "**Q9. Which country has Company Owned ownership?**"
      ]
    },
    {
      "cell_type": "code",
      "metadata": {
        "colab": {
          "base_uri": "https://localhost:8080/"
        },
        "id": "9TbM4lGSRpHS",
        "outputId": "b27b8a9c-19b5-46c3-f8f7-35606089db2c"
      },
      "source": [
        "g=sp.loc[(sp['Ownership Type']=='Company Owned')]['Country'].unique()\n",
        "g"
      ],
      "execution_count": 12,
      "outputs": [
        {
          "output_type": "execute_result",
          "data": {
            "text/plain": [
              "array(['AT', 'BR', 'CA', 'CH', 'CN', 'DE', 'FR', 'GB', 'JP', 'NL', 'PR',\n",
              "       'SG', 'TH', 'US'], dtype=object)"
            ]
          },
          "metadata": {},
          "execution_count": 12
        }
      ]
    },
    {
      "cell_type": "markdown",
      "metadata": {
        "id": "LDhNISPDSRAh"
      },
      "source": [
        "**Q10.How many cities are Starbucks stores available?**"
      ]
    },
    {
      "cell_type": "code",
      "metadata": {
        "colab": {
          "base_uri": "https://localhost:8080/"
        },
        "id": "r-YjuCKXSdhy",
        "outputId": "50075fda-0441-4eed-b8df-bdc39b8589e9"
      },
      "source": [
        "h=sp.loc[(sp['Brand']=='Starbucks')]['City'].nunique()\n",
        "h"
      ],
      "execution_count": 13,
      "outputs": [
        {
          "output_type": "execute_result",
          "data": {
            "text/plain": [
              "5401"
            ]
          },
          "metadata": {},
          "execution_count": 13
        }
      ]
    },
    {
      "cell_type": "markdown",
      "metadata": {
        "id": "rrj0GE6-SW9l"
      },
      "source": [
        "**Q11. How many states or province are Starbucks stores available?**"
      ]
    },
    {
      "cell_type": "code",
      "metadata": {
        "colab": {
          "base_uri": "https://localhost:8080/"
        },
        "id": "wqsd-p1LTC2Q",
        "outputId": "53b6dd06-e92f-4cab-92ac-b76d3bb95606"
      },
      "source": [
        "i=sp.loc[(sp['Brand']=='Starbucks')]['State/Province'].unique()\n",
        "i"
      ],
      "execution_count": 14,
      "outputs": [
        {
          "output_type": "execute_result",
          "data": {
            "text/plain": [
              "array(['7', 'AJ', 'AZ', 'DU', 'FU', 'RK', 'SH', 'UQ', 'B', 'C', 'M', 'S',\n",
              "       'X', '3', '5', '9', 'NSW', 'QLD', 'VIC', 'AW', 'BA', 'SAB', 'BE',\n",
              "       'VAN', 'VBR', 'VLG', 'WAL', '2', '23', '13', '14', '15', 'BM',\n",
              "       'TU', 'RJ', 'SP', 'BI', 'NS', 'AB', 'BC', 'MB', 'NB', 'NL', 'ON',\n",
              "       'PE', 'QC', 'SK', 'YT', 'AG', 'BS', 'FR', 'GE', 'LU', 'SG', 'VD',\n",
              "       'ZG', 'ZH', 'LI', 'RM', 'VS', '11', '12', '21', '22', '31', '32',\n",
              "       '33', '34', '35', '36', '37', '41', '42', '43', '44', '45', '46',\n",
              "       '50', '51', '52', '53', '61', '62', '63', '64', '91', '92', 'DC',\n",
              "       'A', 'SJ', 'CW', '1', 'JM', 'MO', 'PR', 'BB', 'BW', 'BY', 'HB',\n",
              "       'HE', 'HH', 'NI', 'NW', 'RP', 'SL', 'SN', 'TH', '81', '83', '84',\n",
              "       'DK', 'ALX', 'JS', 'AN', 'CL', 'CT', 'IB', 'MA', 'MD', 'MU', 'SS',\n",
              "       'Z', 'ZAB', '18', 'ES', 'D', 'F', 'J', 'K', 'N', 'O', 'R', 'U',\n",
              "       'V', 'ENG', 'NIR', 'SCT', 'WLS', 'A1', 'L', 'GU', 'BU', 'BT', 'JB',\n",
              "       'JI', 'JK', 'JT', 'JW', 'KA', 'KI', 'NU', 'RI', 'SM', 'SU', 'YO',\n",
              "       'AP', 'DL', 'HR', 'MH', 'TN', 'UP', 'AM', 'IR', '4', '6', '8',\n",
              "       '10', '16', '17', '19', '20', '24', '25', '26', '27', '28', '29',\n",
              "       '30', '38', '39', '40', '47', '48', '49', 'AH', 'FA', 'HA', 'JA',\n",
              "       'KU', 'ALA', 'AST', 'MC', 'AGU', 'BCN', 'BCS', 'CAM', 'CHH', 'CHP',\n",
              "       'COA', 'COL', 'DIF', 'DUR', 'GRO', 'GUA', 'HID', 'JAL', 'MIC',\n",
              "       'MOR', 'MX', 'NAY', 'NLE', 'OAX', 'PUE', 'QUE', 'ROO', 'SIN',\n",
              "       'SLP', 'SON', 'TAB', 'TAM', 'VER', 'YUC', 'ZAC', 'GR', 'NH', 'OV',\n",
              "       'UT', 'ARE', 'CAJ', 'CUS', 'ICA', 'JUN', 'LAL', 'LAM', 'LIM',\n",
              "       'PIU', '0', 'PH', 'DS', 'LD', 'MZ', 'PM', 'WP', 'ZP', 'DA', 'CJ',\n",
              "       'DJ', 'IS', 'TM', 'KDA', 'MOS', 'MOW', 'ROS', 'SAM', 'SPE', 'SVE',\n",
              "       'TYU', 'YAR', 'BL', 'SA', '57', '60', '65', '70', '73', '74', '77',\n",
              "       '80', '90', '54', '55', 'CHA', 'POS', 'SFO', 'CYI', 'CYQ', 'HSQ',\n",
              "       'HSZ', 'HUA', 'ILA', 'KEE', 'KHH', 'MIA', 'NAN', 'PEN', 'PIF',\n",
              "       'TAO', 'TNN', 'TNQ', 'TPE', 'TPQ', 'TTT', 'TXG', 'TXQ', 'YUN',\n",
              "       'AK', 'AL', 'AR', 'CA', 'CO', 'DE', 'FL', 'GA', 'HI', 'IA', 'ID',\n",
              "       'IL', 'IN', 'KS', 'KY', 'LA', 'ME', 'MI', 'MN', 'MS', 'MT', 'NC',\n",
              "       'ND', 'NE', 'NJ', 'NM', 'NV', 'NY', 'OH', 'OK', 'OR', 'PA', 'SC',\n",
              "       'SD', 'TX', 'VA', 'VT', 'WA', 'WI', 'WV', 'WY', 'HN', 'GT'],\n",
              "      dtype=object)"
            ]
          },
          "metadata": {},
          "execution_count": 14
        }
      ]
    },
    {
      "cell_type": "markdown",
      "metadata": {
        "id": "M-cDXYl1SW24"
      },
      "source": [
        "**Q13. Top 10 large number of Stores in the country.**"
      ]
    },
    {
      "cell_type": "code",
      "metadata": {
        "colab": {
          "base_uri": "https://localhost:8080/"
        },
        "id": "O3Kpx6kPVNev",
        "outputId": "56229bba-56b5-4285-c3b3-f2f063126731"
      },
      "source": [
        "sp['Country'].value_counts().head(10)"
      ],
      "execution_count": 15,
      "outputs": [
        {
          "output_type": "execute_result",
          "data": {
            "text/plain": [
              "US    13608\n",
              "CN     2734\n",
              "CA     1468\n",
              "JP     1237\n",
              "KR      993\n",
              "GB      901\n",
              "MX      579\n",
              "TW      394\n",
              "TR      326\n",
              "PH      298\n",
              "Name: Country, dtype: int64"
            ]
          },
          "metadata": {},
          "execution_count": 15
        }
      ]
    }
  ]
}